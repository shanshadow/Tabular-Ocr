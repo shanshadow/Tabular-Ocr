{
  "cells": [
    {
      "cell_type": "code",
      "execution_count": null,
      "id": "4cc4989c-35be-45e0-94ce-a2f31761e546",
      "metadata": {
        "id": "4cc4989c-35be-45e0-94ce-a2f31761e546",
        "outputId": "7582d698-6bc9-4ba9-bf79-e35459d000ac"
      },
      "outputs": [
        {
          "name": "stdout",
          "output_type": "stream",
          "text": [
            "Requirement already satisfied: tensorflow in /root/miniconda3/envs/py3.10/lib/python3.10/site-packages (2.17.0)\n",
            "Requirement already satisfied: matplotlib in /root/miniconda3/envs/py3.10/lib/python3.10/site-packages (3.9.2)\n",
            "Requirement already satisfied: imageio in /root/miniconda3/envs/py3.10/lib/python3.10/site-packages (2.35.1)\n",
            "Requirement already satisfied: absl-py>=1.0.0 in /root/miniconda3/envs/py3.10/lib/python3.10/site-packages (from tensorflow) (2.1.0)\n",
            "Requirement already satisfied: astunparse>=1.6.0 in /root/miniconda3/envs/py3.10/lib/python3.10/site-packages (from tensorflow) (1.6.3)\n",
            "Requirement already satisfied: flatbuffers>=24.3.25 in /root/miniconda3/envs/py3.10/lib/python3.10/site-packages (from tensorflow) (24.3.25)\n",
            "Requirement already satisfied: gast!=0.5.0,!=0.5.1,!=0.5.2,>=0.2.1 in /root/miniconda3/envs/py3.10/lib/python3.10/site-packages (from tensorflow) (0.6.0)\n",
            "Requirement already satisfied: google-pasta>=0.1.1 in /root/miniconda3/envs/py3.10/lib/python3.10/site-packages (from tensorflow) (0.2.0)\n",
            "Requirement already satisfied: h5py>=3.10.0 in /root/miniconda3/envs/py3.10/lib/python3.10/site-packages (from tensorflow) (3.12.1)\n",
            "Requirement already satisfied: libclang>=13.0.0 in /root/miniconda3/envs/py3.10/lib/python3.10/site-packages (from tensorflow) (18.1.1)\n",
            "Requirement already satisfied: ml-dtypes<0.5.0,>=0.3.1 in /root/miniconda3/envs/py3.10/lib/python3.10/site-packages (from tensorflow) (0.4.1)\n",
            "Requirement already satisfied: opt-einsum>=2.3.2 in /root/miniconda3/envs/py3.10/lib/python3.10/site-packages (from tensorflow) (3.4.0)\n",
            "Requirement already satisfied: packaging in /root/miniconda3/envs/py3.10/lib/python3.10/site-packages (from tensorflow) (24.1)\n",
            "Requirement already satisfied: protobuf!=4.21.0,!=4.21.1,!=4.21.2,!=4.21.3,!=4.21.4,!=4.21.5,<5.0.0dev,>=3.20.3 in /root/miniconda3/envs/py3.10/lib/python3.10/site-packages (from tensorflow) (4.25.5)\n",
            "Requirement already satisfied: requests<3,>=2.21.0 in /root/miniconda3/envs/py3.10/lib/python3.10/site-packages (from tensorflow) (2.32.3)\n",
            "Requirement already satisfied: setuptools in /root/miniconda3/envs/py3.10/lib/python3.10/site-packages (from tensorflow) (72.1.0)\n",
            "Requirement already satisfied: six>=1.12.0 in /root/miniconda3/envs/py3.10/lib/python3.10/site-packages (from tensorflow) (1.16.0)\n",
            "Requirement already satisfied: termcolor>=1.1.0 in /root/miniconda3/envs/py3.10/lib/python3.10/site-packages (from tensorflow) (2.4.0)\n",
            "Requirement already satisfied: typing-extensions>=3.6.6 in /root/miniconda3/envs/py3.10/lib/python3.10/site-packages (from tensorflow) (4.12.2)\n",
            "Requirement already satisfied: wrapt>=1.11.0 in /root/miniconda3/envs/py3.10/lib/python3.10/site-packages (from tensorflow) (1.16.0)\n",
            "Requirement already satisfied: grpcio<2.0,>=1.24.3 in /root/miniconda3/envs/py3.10/lib/python3.10/site-packages (from tensorflow) (1.66.2)\n",
            "Requirement already satisfied: tensorboard<2.18,>=2.17 in /root/miniconda3/envs/py3.10/lib/python3.10/site-packages (from tensorflow) (2.17.1)\n",
            "Requirement already satisfied: keras>=3.2.0 in /root/miniconda3/envs/py3.10/lib/python3.10/site-packages (from tensorflow) (3.5.0)\n",
            "Requirement already satisfied: tensorflow-io-gcs-filesystem>=0.23.1 in /root/miniconda3/envs/py3.10/lib/python3.10/site-packages (from tensorflow) (0.37.1)\n",
            "Requirement already satisfied: numpy<2.0.0,>=1.23.5 in /root/miniconda3/envs/py3.10/lib/python3.10/site-packages (from tensorflow) (1.26.4)\n",
            "Requirement already satisfied: contourpy>=1.0.1 in /root/miniconda3/envs/py3.10/lib/python3.10/site-packages (from matplotlib) (1.3.0)\n",
            "Requirement already satisfied: cycler>=0.10 in /root/miniconda3/envs/py3.10/lib/python3.10/site-packages (from matplotlib) (0.12.1)\n",
            "Requirement already satisfied: fonttools>=4.22.0 in /root/miniconda3/envs/py3.10/lib/python3.10/site-packages (from matplotlib) (4.54.1)\n",
            "Requirement already satisfied: kiwisolver>=1.3.1 in /root/miniconda3/envs/py3.10/lib/python3.10/site-packages (from matplotlib) (1.4.7)\n",
            "Requirement already satisfied: pillow>=8 in /root/miniconda3/envs/py3.10/lib/python3.10/site-packages (from matplotlib) (10.4.0)\n",
            "Requirement already satisfied: pyparsing>=2.3.1 in /root/miniconda3/envs/py3.10/lib/python3.10/site-packages (from matplotlib) (3.1.4)\n",
            "Requirement already satisfied: python-dateutil>=2.7 in /root/miniconda3/envs/py3.10/lib/python3.10/site-packages (from matplotlib) (2.9.0.post0)\n",
            "Requirement already satisfied: wheel<1.0,>=0.23.0 in /root/miniconda3/envs/py3.10/lib/python3.10/site-packages (from astunparse>=1.6.0->tensorflow) (0.43.0)\n",
            "Requirement already satisfied: rich in /root/miniconda3/envs/py3.10/lib/python3.10/site-packages (from keras>=3.2.0->tensorflow) (13.7.1)\n",
            "Requirement already satisfied: namex in /root/miniconda3/envs/py3.10/lib/python3.10/site-packages (from keras>=3.2.0->tensorflow) (0.0.8)\n",
            "Requirement already satisfied: optree in /root/miniconda3/envs/py3.10/lib/python3.10/site-packages (from keras>=3.2.0->tensorflow) (0.12.1)\n",
            "Requirement already satisfied: charset-normalizer<4,>=2 in /root/miniconda3/envs/py3.10/lib/python3.10/site-packages (from requests<3,>=2.21.0->tensorflow) (3.3.2)\n",
            "Requirement already satisfied: idna<4,>=2.5 in /root/miniconda3/envs/py3.10/lib/python3.10/site-packages (from requests<3,>=2.21.0->tensorflow) (3.7)\n",
            "Requirement already satisfied: urllib3<3,>=1.21.1 in /root/miniconda3/envs/py3.10/lib/python3.10/site-packages (from requests<3,>=2.21.0->tensorflow) (2.2.2)\n",
            "Requirement already satisfied: certifi>=2017.4.17 in /root/miniconda3/envs/py3.10/lib/python3.10/site-packages (from requests<3,>=2.21.0->tensorflow) (2024.7.4)\n",
            "Requirement already satisfied: markdown>=2.6.8 in /root/miniconda3/envs/py3.10/lib/python3.10/site-packages (from tensorboard<2.18,>=2.17->tensorflow) (3.7)\n",
            "Requirement already satisfied: tensorboard-data-server<0.8.0,>=0.7.0 in /root/miniconda3/envs/py3.10/lib/python3.10/site-packages (from tensorboard<2.18,>=2.17->tensorflow) (0.7.2)\n",
            "Requirement already satisfied: werkzeug>=1.0.1 in /root/miniconda3/envs/py3.10/lib/python3.10/site-packages (from tensorboard<2.18,>=2.17->tensorflow) (3.0.4)\n",
            "Requirement already satisfied: MarkupSafe>=2.1.1 in /root/miniconda3/envs/py3.10/lib/python3.10/site-packages (from werkzeug>=1.0.1->tensorboard<2.18,>=2.17->tensorflow) (2.1.5)\n",
            "Requirement already satisfied: markdown-it-py>=2.2.0 in /root/miniconda3/envs/py3.10/lib/python3.10/site-packages (from rich->keras>=3.2.0->tensorflow) (3.0.0)\n",
            "Requirement already satisfied: pygments<3.0.0,>=2.13.0 in /root/miniconda3/envs/py3.10/lib/python3.10/site-packages (from rich->keras>=3.2.0->tensorflow) (2.18.0)\n",
            "Requirement already satisfied: mdurl~=0.1 in /root/miniconda3/envs/py3.10/lib/python3.10/site-packages (from markdown-it-py>=2.2.0->rich->keras>=3.2.0->tensorflow) (0.1.2)\n",
            "\u001b[33mWARNING: Running pip as the 'root' user can result in broken permissions and conflicting behaviour with the system package manager, possibly rendering your system unusable.It is recommended to use a virtual environment instead: https://pip.pypa.io/warnings/venv. Use the --root-user-action option if you know what you are doing and want to suppress this warning.\u001b[0m\u001b[33m\n",
            "\u001b[0m"
          ]
        }
      ],
      "source": [
        "!pip install tensorflow matplotlib imageio"
      ]
    },
    {
      "cell_type": "code",
      "execution_count": null,
      "id": "6d9b330f-780f-4569-b877-15e3875adafd",
      "metadata": {
        "id": "6d9b330f-780f-4569-b877-15e3875adafd"
      },
      "outputs": [],
      "source": [
        "import tensorflow as tf\n",
        "from tensorflow.keras import layers\n",
        "import numpy as np\n",
        "import matplotlib.pyplot as plt\n",
        "from tensorflow.keras.datasets import fashion_mnist\n",
        "import os\n",
        "import imageio"
      ]
    },
    {
      "cell_type": "code",
      "execution_count": null,
      "id": "316974ad-da98-48cc-a402-2ad634ac0230",
      "metadata": {
        "id": "316974ad-da98-48cc-a402-2ad634ac0230"
      },
      "outputs": [],
      "source": [
        "# Load Fashion MNIST data\n",
        "(train_images, _), (test_images, _) = fashion_mnist.load_data()\n",
        "train_images = (train_images - 127.5) / 127.5  # Normalize to [-1, 1]\n",
        "train_images = np.expand_dims(train_images, axis=-1)"
      ]
    },
    {
      "cell_type": "code",
      "execution_count": null,
      "id": "6a9f367e-9a70-4ad9-8b63-97946dd9a249",
      "metadata": {
        "id": "6a9f367e-9a70-4ad9-8b63-97946dd9a249"
      },
      "outputs": [],
      "source": [
        "# Parameters\n",
        "BUFFER_SIZE = 60000\n",
        "BATCH_SIZE = 256\n",
        "NOISE_DIM = 100\n",
        "EPOCHS = 35\n",
        "CHECKPOINT_INTERVAL = 5"
      ]
    },
    {
      "cell_type": "code",
      "execution_count": null,
      "id": "ceaf68ad-9fd0-4912-ba53-6c1e8c448505",
      "metadata": {
        "id": "ceaf68ad-9fd0-4912-ba53-6c1e8c448505"
      },
      "outputs": [],
      "source": [
        "train_dataset = tf.data.Dataset.from_tensor_slices(train_images).shuffle(BUFFER_SIZE).batch(BATCH_SIZE)"
      ]
    },
    {
      "cell_type": "code",
      "execution_count": null,
      "id": "8a32fe90-1527-466b-9413-4626d006a14a",
      "metadata": {
        "id": "8a32fe90-1527-466b-9413-4626d006a14a"
      },
      "outputs": [],
      "source": [
        "# Generator model\n",
        "def build_generator():\n",
        "    model = tf.keras.Sequential([\n",
        "        layers.Dense(7*7*256, use_bias=False, input_shape=(NOISE_DIM,)),\n",
        "        layers.BatchNormalization(),\n",
        "        layers.LeakyReLU(),\n",
        "        layers.Reshape((7, 7, 256)),\n",
        "        layers.Conv2DTranspose(128, (5, 5), strides=(1, 1), padding='same', use_bias=False),\n",
        "        layers.BatchNormalization(),\n",
        "        layers.LeakyReLU(),\n",
        "        layers.Conv2DTranspose(64, (5, 5), strides=(2, 2), padding='same', use_bias=False),\n",
        "        layers.BatchNormalization(),\n",
        "        layers.LeakyReLU(),\n",
        "        layers.Conv2DTranspose(1, (5, 5), strides=(2, 2), padding='same', use_bias=False, activation='tanh')\n",
        "    ])\n",
        "    return model"
      ]
    },
    {
      "cell_type": "code",
      "execution_count": null,
      "id": "9daed6e7-f8a8-4185-bcc5-fbc7a2f8de7f",
      "metadata": {
        "id": "9daed6e7-f8a8-4185-bcc5-fbc7a2f8de7f"
      },
      "outputs": [],
      "source": [
        "# Discriminator model\n",
        "def build_discriminator():\n",
        "    model = tf.keras.Sequential([\n",
        "        layers.Conv2D(64, (5, 5), strides=(2, 2), padding='same', input_shape=[28, 28, 1]),\n",
        "        layers.LeakyReLU(),\n",
        "        layers.Dropout(0.3),\n",
        "        layers.Conv2D(128, (5, 5), strides=(2, 2), padding='same'),\n",
        "        layers.LeakyReLU(),\n",
        "        layers.Dropout(0.3),\n",
        "        layers.Flatten(),\n",
        "        layers.Dense(1)\n",
        "    ])\n",
        "    return model\n"
      ]
    },
    {
      "cell_type": "code",
      "execution_count": null,
      "id": "f5498c66-1d29-4cff-a38d-aee068219312",
      "metadata": {
        "id": "f5498c66-1d29-4cff-a38d-aee068219312"
      },
      "outputs": [],
      "source": [
        "# Loss and optimizers\n",
        "cross_entropy = tf.keras.losses.BinaryCrossentropy(from_logits=True)"
      ]
    },
    {
      "cell_type": "code",
      "execution_count": null,
      "id": "339755c5-1666-46c8-98f1-6668540d01bc",
      "metadata": {
        "id": "339755c5-1666-46c8-98f1-6668540d01bc"
      },
      "outputs": [],
      "source": [
        "def generator_loss(fake_output):\n",
        "    return cross_entropy(tf.ones_like(fake_output), fake_output)\n",
        "\n",
        "def discriminator_loss(real_output, fake_output):\n",
        "    real_loss = cross_entropy(tf.ones_like(real_output), real_output)\n",
        "    fake_loss = cross_entropy(tf.zeros_like(fake_output), fake_output)\n",
        "    return real_loss + fake_loss"
      ]
    },
    {
      "cell_type": "code",
      "execution_count": null,
      "id": "c246f9eb-c72b-472b-bdb9-387c5f294620",
      "metadata": {
        "id": "c246f9eb-c72b-472b-bdb9-387c5f294620"
      },
      "outputs": [],
      "source": [
        "generator = build_generator()\n",
        "discriminator = build_discriminator()"
      ]
    },
    {
      "cell_type": "code",
      "execution_count": null,
      "id": "856d183e-ddd0-472e-a69c-e26fff062780",
      "metadata": {
        "id": "856d183e-ddd0-472e-a69c-e26fff062780"
      },
      "outputs": [],
      "source": [
        "generator_optimizer = tf.keras.optimizers.Adam(1e-4)\n",
        "discriminator_optimizer = tf.keras.optimizers.Adam(1e-4)"
      ]
    },
    {
      "cell_type": "code",
      "execution_count": null,
      "id": "895e351d-f4d4-4daa-bc7e-89766c4d08f5",
      "metadata": {
        "id": "895e351d-f4d4-4daa-bc7e-89766c4d08f5"
      },
      "outputs": [],
      "source": [
        "# Save the generated images in a list for GIF creation\n",
        "generated_images_list = []"
      ]
    },
    {
      "cell_type": "code",
      "execution_count": null,
      "id": "0ce1a382-ccbc-4e90-8447-e56ec281cf6a",
      "metadata": {
        "id": "0ce1a382-ccbc-4e90-8447-e56ec281cf6a"
      },
      "outputs": [],
      "source": [
        "# Training loop\n",
        "@tf.function\n",
        "def train_step(images):\n",
        "    noise = tf.random.normal([BATCH_SIZE, NOISE_DIM])\n",
        "\n",
        "    with tf.GradientTape() as gen_tape, tf.GradientTape() as disc_tape:\n",
        "        generated_images = generator(noise, training=True)\n",
        "\n",
        "        real_output = discriminator(images, training=True)\n",
        "        fake_output = discriminator(generated_images, training=True)\n",
        "\n",
        "        gen_loss = generator_loss(fake_output)\n",
        "        disc_loss = discriminator_loss(real_output, fake_output)\n",
        "\n",
        "    gradients_of_generator = gen_tape.gradient(gen_loss, generator.trainable_variables)\n",
        "    gradients_of_discriminator = disc_tape.gradient(disc_loss, discriminator.trainable_variables)\n",
        "\n",
        "    generator_optimizer.apply_gradients(zip(gradients_of_generator, generator.trainable_variables))\n",
        "    discriminator_optimizer.apply_gradients(zip(gradients_of_discriminator, discriminator.trainable_variables))"
      ]
    },
    {
      "cell_type": "code",
      "execution_count": null,
      "id": "9af99356-fa28-4bc6-af9c-cef9c324608c",
      "metadata": {
        "id": "9af99356-fa28-4bc6-af9c-cef9c324608c"
      },
      "outputs": [],
      "source": [
        "def train(dataset, epochs):\n",
        "    for epoch in range(epochs):\n",
        "        for image_batch in dataset:\n",
        "            train_step(image_batch)\n",
        "\n",
        "        if (epoch + 1) % CHECKPOINT_INTERVAL == 0:\n",
        "            print(f'Epoch {epoch + 1} finished. Generating images...')\n",
        "            generate_and_save_images(generator, epoch + 1)"
      ]
    },
    {
      "cell_type": "code",
      "execution_count": null,
      "id": "d480b2a4-3ef7-44e5-b6e9-c2aeaae69ed6",
      "metadata": {
        "id": "d480b2a4-3ef7-44e5-b6e9-c2aeaae69ed6"
      },
      "outputs": [],
      "source": [
        "# Generate and save images for visualization and GIF creation\n",
        "def generate_and_save_images(model, epoch):\n",
        "    test_input = tf.random.normal([16, NOISE_DIM])\n",
        "    predictions = model(test_input, training=False)\n",
        "\n",
        "    fig = plt.figure(figsize=(4, 4))\n",
        "\n",
        "    for i in range(predictions.shape[0]):\n",
        "        plt.subplot(4, 4, i + 1)\n",
        "        plt.imshow(predictions[i, :, :, 0] * 127.5 + 127.5, cmap='gray')\n",
        "        plt.axis('off')\n",
        "\n",
        "    plt.savefig(f'generated_image_at_epoch_{epoch:04d}.png')\n",
        "    generated_images_list.append(f'generated_image_at_epoch_{epoch:04d}.png')\n",
        "    plt.close()"
      ]
    },
    {
      "cell_type": "code",
      "execution_count": null,
      "id": "1e916b0c-9267-46af-b9a2-355eab861d50",
      "metadata": {
        "id": "1e916b0c-9267-46af-b9a2-355eab861d50"
      },
      "outputs": [],
      "source": [
        "# Create a GIF from saved images\n",
        "def save_as_gif(image_list, gif_name):\n",
        "    with imageio.get_writer(gif_name, mode='I') as writer:\n",
        "        for filename in image_list:\n",
        "            image = imageio.imread(filename)\n",
        "            writer.append_data(image)"
      ]
    },
    {
      "cell_type": "code",
      "execution_count": null,
      "id": "bf46d909-b2f2-48f4-ba1c-6a32e87c9171",
      "metadata": {
        "id": "bf46d909-b2f2-48f4-ba1c-6a32e87c9171"
      },
      "outputs": [],
      "source": [
        "# Display comparison of generated images vs original test images\n",
        "def display_comparison(generator, test_images):\n",
        "    noise = tf.random.normal([16, NOISE_DIM])\n",
        "    generated_images = generator(noise, training=False)\n",
        "\n",
        "    fig, axes = plt.subplots(4, 4, figsize=(8, 8))\n",
        "\n",
        "    for i in range(16):\n",
        "        # Plot generated image\n",
        "        ax = plt.subplot(4, 4, i + 1)\n",
        "        plt.imshow(generated_images[i, :, :, 0] * 127.5 + 127.5, cmap='gray')\n",
        "        plt.axis('off')\n",
        "\n",
        "    plt.show()"
      ]
    },
    {
      "cell_type": "code",
      "execution_count": null,
      "id": "869203bb-34d9-4cf4-bcb2-c4b65d51a940",
      "metadata": {
        "id": "869203bb-34d9-4cf4-bcb2-c4b65d51a940",
        "outputId": "088e7a09-83e1-4510-b60a-7d7ed57d721a"
      },
      "outputs": [
        {
          "name": "stderr",
          "output_type": "stream",
          "text": [
            "2024-10-02 15:02:36.567813: I tensorflow/core/framework/local_rendezvous.cc:404] Local rendezvous is aborting with status: OUT_OF_RANGE: End of sequence\n",
            "2024-10-02 15:04:09.512358: I tensorflow/core/framework/local_rendezvous.cc:404] Local rendezvous is aborting with status: OUT_OF_RANGE: End of sequence\n",
            "2024-10-02 15:07:15.249734: I tensorflow/core/framework/local_rendezvous.cc:404] Local rendezvous is aborting with status: OUT_OF_RANGE: End of sequence\n"
          ]
        },
        {
          "name": "stdout",
          "output_type": "stream",
          "text": [
            "Epoch 5 finished. Generating images...\n"
          ]
        },
        {
          "name": "stderr",
          "output_type": "stream",
          "text": [
            "2024-10-02 15:13:26.863807: I tensorflow/core/framework/local_rendezvous.cc:404] Local rendezvous is aborting with status: OUT_OF_RANGE: End of sequence\n"
          ]
        },
        {
          "name": "stdout",
          "output_type": "stream",
          "text": [
            "Epoch 10 finished. Generating images...\n",
            "Epoch 15 finished. Generating images...\n"
          ]
        },
        {
          "name": "stderr",
          "output_type": "stream",
          "text": [
            "2024-10-02 15:25:46.384775: I tensorflow/core/framework/local_rendezvous.cc:404] Local rendezvous is aborting with status: OUT_OF_RANGE: End of sequence\n"
          ]
        },
        {
          "name": "stdout",
          "output_type": "stream",
          "text": [
            "Epoch 20 finished. Generating images...\n",
            "Epoch 25 finished. Generating images...\n",
            "Epoch 30 finished. Generating images...\n"
          ]
        },
        {
          "name": "stderr",
          "output_type": "stream",
          "text": [
            "2024-10-02 15:50:30.660553: I tensorflow/core/framework/local_rendezvous.cc:404] Local rendezvous is aborting with status: OUT_OF_RANGE: End of sequence\n"
          ]
        }
      ],
      "source": [
        "# Train the GAN\n",
        "train(train_dataset, EPOCHS)"
      ]
    },
    {
      "cell_type": "code",
      "execution_count": null,
      "id": "efd9409c-c8ae-4ac4-934c-be51f359a80c",
      "metadata": {
        "id": "efd9409c-c8ae-4ac4-934c-be51f359a80c"
      },
      "outputs": [],
      "source": [
        "# Save the training progress as a GIF\n",
        "save_as_gif(generated_images_list, 'dcgan_training.gif')"
      ]
    },
    {
      "cell_type": "code",
      "execution_count": null,
      "id": "28e721b7-e739-4a98-a1e0-c57ffd4f0144",
      "metadata": {
        "id": "28e721b7-e739-4a98-a1e0-c57ffd4f0144"
      },
      "outputs": [],
      "source": [
        "# Display generated vs original images using Matplotlib\n",
        "display_comparison(generator, test_images)"
      ]
    }
  ],
  "metadata": {
    "kernelspec": {
      "display_name": "Python 3 (ipykernel)",
      "language": "python",
      "name": "python3"
    },
    "language_info": {
      "codemirror_mode": {
        "name": "ipython",
        "version": 3
      },
      "file_extension": ".py",
      "mimetype": "text/x-python",
      "name": "python",
      "nbconvert_exporter": "python",
      "pygments_lexer": "ipython3",
      "version": "3.10.14"
    },
    "colab": {
      "provenance": []
    }
  },
  "nbformat": 4,
  "nbformat_minor": 5
}